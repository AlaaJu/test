{
 "cells": [
  {
   "cell_type": "markdown",
   "id": "711437b9-a90c-4629-9e71-2cc734a47fdb",
   "metadata": {},
   "source": [
    "# Data Science Tools and Ecosystem"
   ]
  },
  {
   "cell_type": "markdown",
   "id": "9daa8f2b-6e1b-433c-98aa-7967b0b05897",
   "metadata": {},
   "source": [
    "#### In this notebook, Data Science Tools and Ecosystem are summarized."
   ]
  },
  {
   "cell_type": "markdown",
   "id": "05e7b92a-2bcd-4cbc-8af7-dd9df098114f",
   "metadata": {},
   "source": [
    "**Objectives:**\n",
    "\n",
    "- List popular languages for Data Science\n",
    "- Introduce common data science libraries\n",
    "- Data Science Tools\n",
    "- Explore data visualization techniques"
   ]
  },
  {
   "cell_type": "markdown",
   "id": "113b3938-ce8e-4632-861a-05a501315130",
   "metadata": {},
   "source": [
    "##### Some of the popular languages that Data Scientists use are:\n",
    "###### 1- java\n",
    "###### 2- python\n",
    "###### 3- R \n",
    "###### 4- SQL"
   ]
  },
  {
   "cell_type": "markdown",
   "id": "2f7c0f1f-e5f7-4c0e-9353-7cc2a24df4bb",
   "metadata": {
    "tags": []
   },
   "source": [
    "##### Some of the commonly used libraries used by Data Scientists include:\n",
    " - Pytorch\n",
    " - Numpy\n",
    " - turicreate\n"
   ]
  },
  {
   "cell_type": "markdown",
   "id": "39918eb2-0376-42ca-86d0-09f188697d21",
   "metadata": {},
   "source": [
    "| Data Science Tools. |\n",
    "|--------|\n",
    "| RStudio |\n",
    "| Apache Spark |\n",
    "| TensorFlow |"
   ]
  },
  {
   "cell_type": "markdown",
   "id": "2f641944-3215-485e-a3de-fd7944b7dccf",
   "metadata": {},
   "source": [
    "### Below are a few examples of evaluating arithmetic expressions in Python."
   ]
  },
  {
   "cell_type": "markdown",
   "id": "ca47394e-ba73-4deb-b4c0-c29018cd8228",
   "metadata": {},
   "source": [
    " This a simple arithmetic expression to mutiply then add integers"
   ]
  },
  {
   "cell_type": "code",
   "execution_count": 2,
   "id": "5c292dc3-3e4f-41cc-87f9-ca8621ac9df2",
   "metadata": {
    "tags": []
   },
   "outputs": [
    {
     "data": {
      "text/plain": [
       "17"
      ]
     },
     "execution_count": 2,
     "metadata": {},
     "output_type": "execute_result"
    }
   ],
   "source": [
    "(3*4)+5"
   ]
  },
  {
   "cell_type": "markdown",
   "id": "eb063776-179c-40b1-a83d-bffd49a61cda",
   "metadata": {},
   "source": [
    " This will convert 200 minutes to hours by diving by 60"
   ]
  },
  {
   "cell_type": "code",
   "execution_count": 1,
   "id": "52f48c57-99bc-4314-8eb1-d2c2fad6fbb9",
   "metadata": {
    "tags": []
   },
   "outputs": [
    {
     "data": {
      "text/plain": [
       "3.3333333333333335"
      ]
     },
     "execution_count": 1,
     "metadata": {},
     "output_type": "execute_result"
    }
   ],
   "source": [
    "200/60"
   ]
  },
  {
   "cell_type": "markdown",
   "id": "3220266f-e8ab-41a6-9d70-b5c4dc968543",
   "metadata": {},
   "source": [
    "## Author\n",
    "\n",
    "Alaa"
   ]
  }
 ],
 "metadata": {
  "kernelspec": {
   "display_name": "Python",
   "language": "python",
   "name": "conda-env-python-py"
  },
  "language_info": {
   "codemirror_mode": {
    "name": "ipython",
    "version": 3
   },
   "file_extension": ".py",
   "mimetype": "text/x-python",
   "name": "python",
   "nbconvert_exporter": "python",
   "pygments_lexer": "ipython3",
   "version": "3.7.12"
  }
 },
 "nbformat": 4,
 "nbformat_minor": 5
}
